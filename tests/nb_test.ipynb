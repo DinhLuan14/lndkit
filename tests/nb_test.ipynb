{
 "cells": [
  {
   "cell_type": "code",
   "execution_count": 1,
   "metadata": {},
   "outputs": [],
   "source": [
    "import functools\n",
    "import inspect\n",
    "import os.path as osp\n",
    "\n",
    "AV_CACHE_DIR = osp.join(osp.expanduser(\"~\"), \".cache/av\")\n",
    "ICACHE = dict()\n",
    "\n",
    "\n",
    "def get_arg_names(func):\n",
    "    return inspect.getfullargspec(func).args"
   ]
  },
  {
   "cell_type": "code",
   "execution_count": 5,
   "metadata": {},
   "outputs": [
    {
     "data": {
      "text/plain": [
       "['ip', 'op']"
      ]
     },
     "execution_count": 5,
     "metadata": {},
     "output_type": "execute_result"
    }
   ],
   "source": [
    "def test(ip, op):\n",
    "    print(\"test\")\n",
    "    print(ip)\n",
    "    print(op)\n",
    "\n",
    "get_arg_names(test)"
   ]
  },
  {
   "cell_type": "code",
   "execution_count": 6,
   "metadata": {},
   "outputs": [
    {
     "name": "stdout",
     "output_type": "stream",
     "text": [
      "wrapper\n",
      "Wrapper function.\n"
     ]
    }
   ],
   "source": [
    "def simple_decorator(func):\n",
    "    def wrapper(*args, **kwargs):\n",
    "        \"\"\"Wrapper function.\"\"\"\n",
    "        print(\"Something is happening before the function is called.\")\n",
    "        result = func(*args, **kwargs)\n",
    "        print(\"Something is happening after the function is called.\")\n",
    "        return result\n",
    "    return wrapper\n",
    "\n",
    "@simple_decorator\n",
    "def say_hello(name):\n",
    "    \"\"\"Greet someone.\"\"\"\n",
    "    return f\"Hello {name}!\"\n",
    "\n",
    "# Kiểm tra metadata\n",
    "print(say_hello.__name__)\n",
    "print(say_hello.__doc__)\n"
   ]
  },
  {
   "cell_type": "code",
   "execution_count": 7,
   "metadata": {},
   "outputs": [
    {
     "name": "stdout",
     "output_type": "stream",
     "text": [
      "say_hello\n",
      "Greet someone.\n"
     ]
    }
   ],
   "source": [
    "import functools\n",
    "\n",
    "def simple_decorator(func):\n",
    "    @functools.wraps(func)\n",
    "    def wrapper(*args, **kwargs):\n",
    "        \"\"\"Wrapper function.\"\"\"\n",
    "        print(\"Something is happening before the function is called.\")\n",
    "        result = func(*args, **kwargs)\n",
    "        print(\"Something is happening after the function is called.\")\n",
    "        return result\n",
    "    return wrapper\n",
    "\n",
    "@simple_decorator\n",
    "def say_hello(name):\n",
    "    \"\"\"Greet someone.\"\"\"\n",
    "    return f\"Hello {name}!\"\n",
    "\n",
    "# Kiểm tra metadata\n",
    "print(say_hello.__name__)\n",
    "print(say_hello.__doc__)\n"
   ]
  }
 ],
 "metadata": {
  "kernelspec": {
   "display_name": "luanenv",
   "language": "python",
   "name": "python3"
  },
  "language_info": {
   "codemirror_mode": {
    "name": "ipython",
    "version": 3
   },
   "file_extension": ".py",
   "mimetype": "text/x-python",
   "name": "python",
   "nbconvert_exporter": "python",
   "pygments_lexer": "ipython3",
   "version": "3.10.13"
  }
 },
 "nbformat": 4,
 "nbformat_minor": 2
}
